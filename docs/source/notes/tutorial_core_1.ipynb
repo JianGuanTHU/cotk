{
  "nbformat": 4,
  "nbformat_minor": 0,
  "metadata": {
    "colab": {
      "name": "Untitled0.ipynb",
      "version": "0.3.2",
      "provenance": [],
      "collapsed_sections": []
    },
    "kernelspec": {
      "name": "python3",
      "display_name": "Python 3"
    }
  },
  "cells": [
    {
      "cell_type": "code",
      "metadata": {
        "id": "k4iaR9TN9q-a",
        "colab_type": "code",
        "outputId": "1d95f647-5e2b-40c4-f455-fed8a4b36087",
        "colab": {
          "base_uri": "https://localhost:8080/",
          "height": 1000
        }
      },
      "source": [
        "!pip3 install cotk\n",
        "!pip install livelossplot"
      ],
      "execution_count": 1,
      "outputs": [
        {
          "output_type": "stream",
          "text": [
            "Cloning into 'cotk'...\n",
            "remote: Enumerating objects: 41, done.\u001b[K\n",
            "remote: Counting objects:   2% (1/41)   \u001b[K\rremote: Counting objects:   4% (2/41)   \u001b[K\rremote: Counting objects:   7% (3/41)   \u001b[K\rremote: Counting objects:   9% (4/41)   \u001b[K\rremote: Counting objects:  12% (5/41)   \u001b[K\rremote: Counting objects:  14% (6/41)   \u001b[K\rremote: Counting objects:  17% (7/41)   \u001b[K\rremote: Counting objects:  19% (8/41)   \u001b[K\rremote: Counting objects:  21% (9/41)   \u001b[K\rremote: Counting objects:  24% (10/41)   \u001b[K\rremote: Counting objects:  26% (11/41)   \u001b[K\rremote: Counting objects:  29% (12/41)   \u001b[K\rremote: Counting objects:  31% (13/41)   \u001b[K\rremote: Counting objects:  34% (14/41)   \u001b[K\rremote: Counting objects:  36% (15/41)   \u001b[K\rremote: Counting objects:  39% (16/41)   \u001b[K\rremote: Counting objects:  41% (17/41)   \u001b[K\rremote: Counting objects:  43% (18/41)   \u001b[K\rremote: Counting objects:  46% (19/41)   \u001b[K\rremote: Counting objects:  48% (20/41)   \u001b[K\rremote: Counting objects:  51% (21/41)   \u001b[K\rremote: Counting objects:  53% (22/41)   \u001b[K\rremote: Counting objects:  56% (23/41)   \u001b[K\rremote: Counting objects:  58% (24/41)   \u001b[K\rremote: Counting objects:  60% (25/41)   \u001b[K\rremote: Counting objects:  63% (26/41)   \u001b[K\rremote: Counting objects:  65% (27/41)   \u001b[K\rremote: Counting objects:  68% (28/41)   \u001b[K\rremote: Counting objects:  70% (29/41)   \u001b[K\rremote: Counting objects:  73% (30/41)   \u001b[K\rremote: Counting objects:  75% (31/41)   \u001b[K\rremote: Counting objects:  78% (32/41)   \u001b[K\rremote: Counting objects:  80% (33/41)   \u001b[K\rremote: Counting objects:  82% (34/41)   \u001b[K\rremote: Counting objects:  85% (35/41)   \u001b[K\rremote: Counting objects:  87% (36/41)   \u001b[K\rremote: Counting objects:  90% (37/41)   \u001b[K\rremote: Counting objects:  92% (38/41)   \u001b[K\rremote: Counting objects:  95% (39/41)   \u001b[K\rremote: Counting objects:  97% (40/41)   \u001b[K\rremote: Counting objects: 100% (41/41)   \u001b[K\rremote: Counting objects: 100% (41/41), done.\u001b[K\n",
            "remote: Compressing objects:   2% (1/36)   \u001b[K\rremote: Compressing objects:   5% (2/36)   \u001b[K\rremote: Compressing objects:   8% (3/36)   \u001b[K\rremote: Compressing objects:  11% (4/36)   \u001b[K\rremote: Compressing objects:  13% (5/36)   \u001b[K\rremote: Compressing objects:  16% (6/36)   \u001b[K\rremote: Compressing objects:  19% (7/36)   \u001b[K\rremote: Compressing objects:  22% (8/36)   \u001b[K\rremote: Compressing objects:  25% (9/36)   \u001b[K\rremote: Compressing objects:  27% (10/36)   \u001b[K\rremote: Compressing objects:  30% (11/36)   \u001b[K\rremote: Compressing objects:  33% (12/36)   \u001b[K\rremote: Compressing objects:  36% (13/36)   \u001b[K\rremote: Compressing objects:  38% (14/36)   \u001b[K\rremote: Compressing objects:  41% (15/36)   \u001b[K\rremote: Compressing objects:  44% (16/36)   \u001b[K\rremote: Compressing objects:  47% (17/36)   \u001b[K\rremote: Compressing objects:  50% (18/36)   \u001b[K\rremote: Compressing objects:  52% (19/36)   \u001b[K\rremote: Compressing objects:  55% (20/36)   \u001b[K\rremote: Compressing objects:  58% (21/36)   \u001b[K\rremote: Compressing objects:  61% (22/36)   \u001b[K\rremote: Compressing objects:  63% (23/36)   \u001b[K\rremote: Compressing objects:  66% (24/36)   \u001b[K\rremote: Compressing objects:  69% (25/36)   \u001b[K\rremote: Compressing objects:  72% (26/36)   \u001b[K\rremote: Compressing objects:  75% (27/36)   \u001b[K\rremote: Compressing objects:  77% (28/36)   \u001b[K\rremote: Compressing objects:  80% (29/36)   \u001b[K\rremote: Compressing objects:  83% (30/36)   \u001b[K\rremote: Compressing objects:  86% (31/36)   \u001b[K\rremote: Compressing objects:  88% (32/36)   \u001b[K\rremote: Compressing objects:  91% (33/36)   \u001b[K\rremote: Compressing objects:  94% (34/36)   \u001b[K\rremote: Compressing objects:  97% (35/36)   \u001b[K\rremote: Compressing objects: 100% (36/36)   \u001b[K\rremote: Compressing objects: 100% (36/36), done.\u001b[K\n",
            "Receiving objects:   0% (1/1789)   \rReceiving objects:   1% (18/1789)   \rReceiving objects:   2% (36/1789)   \rReceiving objects:   3% (54/1789)   \rReceiving objects:   4% (72/1789)   \rReceiving objects:   5% (90/1789)   \rReceiving objects:   6% (108/1789)   \rReceiving objects:   7% (126/1789)   \rReceiving objects:   8% (144/1789)   \rReceiving objects:   9% (162/1789)   \rReceiving objects:  10% (179/1789)   \rReceiving objects:  11% (197/1789)   \rReceiving objects:  12% (215/1789)   \rReceiving objects:  13% (233/1789)   \rReceiving objects:  14% (251/1789)   \rReceiving objects:  15% (269/1789)   \rReceiving objects:  16% (287/1789)   \rReceiving objects:  17% (305/1789)   \rReceiving objects:  18% (323/1789)   \rReceiving objects:  19% (340/1789)   \rReceiving objects:  20% (358/1789)   \rReceiving objects:  21% (376/1789)   \rReceiving objects:  22% (394/1789)   \rReceiving objects:  23% (412/1789)   \rReceiving objects:  24% (430/1789)   \rReceiving objects:  25% (448/1789)   \rReceiving objects:  26% (466/1789)   \rReceiving objects:  27% (484/1789)   \rReceiving objects:  28% (501/1789)   \rReceiving objects:  29% (519/1789)   \rReceiving objects:  30% (537/1789)   \rReceiving objects:  31% (555/1789)   \rReceiving objects:  32% (573/1789)   \rReceiving objects:  33% (591/1789)   \rReceiving objects:  34% (609/1789)   \rReceiving objects:  35% (627/1789)   \rReceiving objects:  36% (645/1789)   \rReceiving objects:  37% (662/1789)   \rReceiving objects:  38% (680/1789)   \rReceiving objects:  39% (698/1789)   \rReceiving objects:  40% (716/1789)   \rReceiving objects:  41% (734/1789)   \rReceiving objects:  42% (752/1789)   \rReceiving objects:  43% (770/1789)   \rReceiving objects:  44% (788/1789)   \rReceiving objects:  45% (806/1789)   \rReceiving objects:  46% (823/1789)   \rReceiving objects:  47% (841/1789)   \rReceiving objects:  48% (859/1789)   \rReceiving objects:  49% (877/1789)   \rReceiving objects:  50% (895/1789)   \rReceiving objects:  51% (913/1789)   \rReceiving objects:  52% (931/1789)   \rReceiving objects:  53% (949/1789)   \rReceiving objects:  54% (967/1789)   \rReceiving objects:  55% (984/1789)   \rReceiving objects:  56% (1002/1789)   \rReceiving objects:  57% (1020/1789)   \rReceiving objects:  58% (1038/1789)   \rReceiving objects:  59% (1056/1789)   \rReceiving objects:  60% (1074/1789)   \rReceiving objects:  61% (1092/1789)   \rReceiving objects:  62% (1110/1789)   \rReceiving objects:  63% (1128/1789)   \rReceiving objects:  64% (1145/1789)   \rReceiving objects:  65% (1163/1789)   \rReceiving objects:  66% (1181/1789)   \rReceiving objects:  67% (1199/1789)   \rReceiving objects:  68% (1217/1789)   \rReceiving objects:  69% (1235/1789)   \rReceiving objects:  70% (1253/1789)   \rReceiving objects:  71% (1271/1789)   \rReceiving objects:  72% (1289/1789)   \rReceiving objects:  73% (1306/1789)   \rReceiving objects:  74% (1324/1789)   \rReceiving objects:  75% (1342/1789)   \rReceiving objects:  76% (1360/1789)   \rReceiving objects:  77% (1378/1789)   \rReceiving objects:  78% (1396/1789)   \rReceiving objects:  79% (1414/1789)   \rReceiving objects:  80% (1432/1789)   \rReceiving objects:  81% (1450/1789)   \rReceiving objects:  82% (1467/1789)   \rReceiving objects:  83% (1485/1789)   \rReceiving objects:  84% (1503/1789)   \rReceiving objects:  85% (1521/1789)   \rReceiving objects:  86% (1539/1789)   \rReceiving objects:  87% (1557/1789)   \rReceiving objects:  88% (1575/1789)   \rReceiving objects:  89% (1593/1789)   \rReceiving objects:  90% (1611/1789)   \rremote: Total 1789 (delta 5), reused 20 (delta 3), pack-reused 1748\u001b[K\n",
            "Receiving objects: 100% (1789/1789), 4.71 MiB | 28.34 MiB/s, done.\n",
            "Resolving deltas: 100% (1025/1025), done.\n",
            "Processing ./cotk\n",
            "Requirement already satisfied: numpy>=1.13 in /usr/local/lib/python3.6/dist-packages (from cotk==0.0.1.dev20190711) (1.16.4)\n",
            "Collecting nltk>=3.4 (from cotk==0.0.1.dev20190711)\n",
            "\u001b[?25l  Downloading https://files.pythonhosted.org/packages/87/16/4d247e27c55a7b6412e7c4c86f2500ae61afcbf5932b9e3491f8462f8d9e/nltk-3.4.4.zip (1.5MB)\n",
            "\u001b[K     |████████████████████████████████| 1.5MB 4.8MB/s \n",
            "\u001b[?25hCollecting tqdm>=4.30 (from cotk==0.0.1.dev20190711)\n",
            "\u001b[?25l  Downloading https://files.pythonhosted.org/packages/9f/3d/7a6b68b631d2ab54975f3a4863f3c4e9b26445353264ef01f465dc9b0208/tqdm-4.32.2-py2.py3-none-any.whl (50kB)\n",
            "\u001b[K     |████████████████████████████████| 51kB 23.5MB/s \n",
            "\u001b[?25hCollecting checksumdir>=1.1 (from cotk==0.0.1.dev20190711)\n",
            "  Downloading https://files.pythonhosted.org/packages/9f/c8/4000776f815a8202598bfdbe78478e781e3fd9f66cfe53b380206bcf4e57/checksumdir-1.1.6.tar.gz\n",
            "Requirement already satisfied: requests in /usr/local/lib/python3.6/dist-packages (from cotk==0.0.1.dev20190711) (2.21.0)\n",
            "Requirement already satisfied: six in /usr/local/lib/python3.6/dist-packages (from nltk>=3.4->cotk==0.0.1.dev20190711) (1.12.0)\n",
            "Requirement already satisfied: idna<2.9,>=2.5 in /usr/local/lib/python3.6/dist-packages (from requests->cotk==0.0.1.dev20190711) (2.8)\n",
            "Requirement already satisfied: certifi>=2017.4.17 in /usr/local/lib/python3.6/dist-packages (from requests->cotk==0.0.1.dev20190711) (2019.6.16)\n",
            "Requirement already satisfied: chardet<3.1.0,>=3.0.2 in /usr/local/lib/python3.6/dist-packages (from requests->cotk==0.0.1.dev20190711) (3.0.4)\n",
            "Requirement already satisfied: urllib3<1.25,>=1.21.1 in /usr/local/lib/python3.6/dist-packages (from requests->cotk==0.0.1.dev20190711) (1.24.3)\n",
            "Building wheels for collected packages: cotk, nltk, checksumdir\n",
            "  Building wheel for cotk (setup.py) ... \u001b[?25l\u001b[?25hdone\n",
            "  Stored in directory: /tmp/pip-ephem-wheel-cache-a7h7jigh/wheels/4c/55/4b/023e8c061ac8bf67267235c4b3c04ad6d8040ee62a61ab173d\n",
            "  Building wheel for nltk (setup.py) ... \u001b[?25l\u001b[?25hdone\n",
            "  Stored in directory: /root/.cache/pip/wheels/41/c8/31/48ace4468e236e0e8435f30d33e43df48594e4d53e367cf061\n",
            "  Building wheel for checksumdir (setup.py) ... \u001b[?25l\u001b[?25hdone\n",
            "  Stored in directory: /root/.cache/pip/wheels/d7/0e/6e/ad41ded2ca5d2fae0ae1b6dd6889eaa0ed14ed1c2a9f834197\n",
            "Successfully built cotk nltk checksumdir\n",
            "Installing collected packages: nltk, tqdm, checksumdir, cotk\n",
            "  Found existing installation: nltk 3.2.5\n",
            "    Uninstalling nltk-3.2.5:\n",
            "      Successfully uninstalled nltk-3.2.5\n",
            "  Found existing installation: tqdm 4.28.1\n",
            "    Uninstalling tqdm-4.28.1:\n",
            "      Successfully uninstalled tqdm-4.28.1\n",
            "Successfully installed checksumdir-1.1.6 cotk-0.0.1.dev20190711 nltk-3.4.4 tqdm-4.32.2\n",
            "Collecting livelossplot\n",
            "  Downloading https://files.pythonhosted.org/packages/8e/f6/0618c30078f9c1e4b2cd84f1ea6bb70c6615070468b75b0d934326107bcd/livelossplot-0.4.1-py3-none-any.whl\n",
            "Requirement already satisfied: notebook in /usr/local/lib/python3.6/dist-packages (from livelossplot) (5.2.2)\n",
            "Requirement already satisfied: matplotlib in /usr/local/lib/python3.6/dist-packages (from livelossplot) (3.0.3)\n",
            "Requirement already satisfied: traitlets>=4.2.1 in /usr/local/lib/python3.6/dist-packages (from notebook->livelossplot) (4.3.2)\n",
            "Requirement already satisfied: terminado>=0.3.3; sys_platform != \"win32\" in /usr/local/lib/python3.6/dist-packages (from notebook->livelossplot) (0.8.2)\n",
            "Requirement already satisfied: ipykernel in /usr/local/lib/python3.6/dist-packages (from notebook->livelossplot) (4.6.1)\n",
            "Requirement already satisfied: jupyter-core in /usr/local/lib/python3.6/dist-packages (from notebook->livelossplot) (4.5.0)\n",
            "Requirement already satisfied: jupyter-client in /usr/local/lib/python3.6/dist-packages (from notebook->livelossplot) (5.2.4)\n",
            "Requirement already satisfied: nbformat in /usr/local/lib/python3.6/dist-packages (from notebook->livelossplot) (4.4.0)\n",
            "Requirement already satisfied: tornado>=4 in /usr/local/lib/python3.6/dist-packages (from notebook->livelossplot) (4.5.3)\n",
            "Requirement already satisfied: ipython-genutils in /usr/local/lib/python3.6/dist-packages (from notebook->livelossplot) (0.2.0)\n",
            "Requirement already satisfied: jinja2 in /usr/local/lib/python3.6/dist-packages (from notebook->livelossplot) (2.10.1)\n",
            "Requirement already satisfied: nbconvert in /usr/local/lib/python3.6/dist-packages (from notebook->livelossplot) (5.5.0)\n",
            "Requirement already satisfied: numpy>=1.10.0 in /usr/local/lib/python3.6/dist-packages (from matplotlib->livelossplot) (1.16.4)\n",
            "Requirement already satisfied: pyparsing!=2.0.4,!=2.1.2,!=2.1.6,>=2.0.1 in /usr/local/lib/python3.6/dist-packages (from matplotlib->livelossplot) (2.4.0)\n",
            "Requirement already satisfied: cycler>=0.10 in /usr/local/lib/python3.6/dist-packages (from matplotlib->livelossplot) (0.10.0)\n",
            "Requirement already satisfied: kiwisolver>=1.0.1 in /usr/local/lib/python3.6/dist-packages (from matplotlib->livelossplot) (1.1.0)\n",
            "Requirement already satisfied: python-dateutil>=2.1 in /usr/local/lib/python3.6/dist-packages (from matplotlib->livelossplot) (2.5.3)\n",
            "Requirement already satisfied: decorator in /usr/local/lib/python3.6/dist-packages (from traitlets>=4.2.1->notebook->livelossplot) (4.4.0)\n",
            "Requirement already satisfied: six in /usr/local/lib/python3.6/dist-packages (from traitlets>=4.2.1->notebook->livelossplot) (1.12.0)\n",
            "Requirement already satisfied: ptyprocess; os_name != \"nt\" in /usr/local/lib/python3.6/dist-packages (from terminado>=0.3.3; sys_platform != \"win32\"->notebook->livelossplot) (0.6.0)\n",
            "Requirement already satisfied: ipython>=4.0.0 in /usr/local/lib/python3.6/dist-packages (from ipykernel->notebook->livelossplot) (5.5.0)\n",
            "Requirement already satisfied: pyzmq>=13 in /usr/local/lib/python3.6/dist-packages (from jupyter-client->notebook->livelossplot) (17.0.0)\n",
            "Requirement already satisfied: jsonschema!=2.5.0,>=2.4 in /usr/local/lib/python3.6/dist-packages (from nbformat->notebook->livelossplot) (2.6.0)\n",
            "Requirement already satisfied: MarkupSafe>=0.23 in /usr/local/lib/python3.6/dist-packages (from jinja2->notebook->livelossplot) (1.1.1)\n",
            "Requirement already satisfied: mistune>=0.8.1 in /usr/local/lib/python3.6/dist-packages (from nbconvert->notebook->livelossplot) (0.8.4)\n",
            "Requirement already satisfied: pygments in /usr/local/lib/python3.6/dist-packages (from nbconvert->notebook->livelossplot) (2.1.3)\n",
            "Requirement already satisfied: pandocfilters>=1.4.1 in /usr/local/lib/python3.6/dist-packages (from nbconvert->notebook->livelossplot) (1.4.2)\n",
            "Requirement already satisfied: testpath in /usr/local/lib/python3.6/dist-packages (from nbconvert->notebook->livelossplot) (0.4.2)\n",
            "Requirement already satisfied: entrypoints>=0.2.2 in /usr/local/lib/python3.6/dist-packages (from nbconvert->notebook->livelossplot) (0.3)\n",
            "Requirement already satisfied: bleach in /usr/local/lib/python3.6/dist-packages (from nbconvert->notebook->livelossplot) (3.1.0)\n",
            "Requirement already satisfied: defusedxml in /usr/local/lib/python3.6/dist-packages (from nbconvert->notebook->livelossplot) (0.6.0)\n",
            "Requirement already satisfied: setuptools in /usr/local/lib/python3.6/dist-packages (from kiwisolver>=1.0.1->matplotlib->livelossplot) (41.0.1)\n",
            "Requirement already satisfied: prompt-toolkit<2.0.0,>=1.0.4 in /usr/local/lib/python3.6/dist-packages (from ipython>=4.0.0->ipykernel->notebook->livelossplot) (1.0.16)\n",
            "Requirement already satisfied: simplegeneric>0.8 in /usr/local/lib/python3.6/dist-packages (from ipython>=4.0.0->ipykernel->notebook->livelossplot) (0.8.1)\n",
            "Requirement already satisfied: pexpect; sys_platform != \"win32\" in /usr/local/lib/python3.6/dist-packages (from ipython>=4.0.0->ipykernel->notebook->livelossplot) (4.7.0)\n",
            "Requirement already satisfied: pickleshare in /usr/local/lib/python3.6/dist-packages (from ipython>=4.0.0->ipykernel->notebook->livelossplot) (0.7.5)\n",
            "Requirement already satisfied: webencodings in /usr/local/lib/python3.6/dist-packages (from bleach->nbconvert->notebook->livelossplot) (0.5.1)\n",
            "Requirement already satisfied: wcwidth in /usr/local/lib/python3.6/dist-packages (from prompt-toolkit<2.0.0,>=1.0.4->ipython>=4.0.0->ipykernel->notebook->livelossplot) (0.1.7)\n",
            "Installing collected packages: livelossplot\n",
            "Successfully installed livelossplot-0.4.1\n"
          ],
          "name": "stdout"
        }
      ]
    },
    {
      "cell_type": "code",
      "metadata": {
        "id": "wXPYm7SA8zbP",
        "colab_type": "code",
        "outputId": "55d8b4d4-aad9-49f1-d691-bdd2f0d32e31",
        "colab": {
          "base_uri": "https://localhost:8080/",
          "height": 363
        }
      },
      "source": [
        "  from cotk.dataloader import MSCOCO\n",
        "  from pprint import pprint\n",
        "  dataloader = MSCOCO(\"resources://MSCOCO_small\") # \"resources://MSCOCO_small\" is a predefined resources name\n",
        "  print(\"Vocab Size:\", dataloader.vocab_size)\n",
        "  print(\"First 10 tokens:\",  dataloader.vocab_list[:10])\n",
        "  print(\"Dataset is split into:\", dataloader.key_name)\n",
        "  data = dataloader.get_batch(\"train\", [0]) # get the sample of id 0\n",
        "  pprint(data, width=200)\n",
        "  print(dataloader.convert_ids_to_tokens(data['sent'][0]))"
      ],
      "execution_count": 2,
      "outputs": [
        {
          "output_type": "stream",
          "text": [
            "INFO: name: MSCOCO_small\n",
            "INFO: source: default\n",
            "INFO: processor type: MSCOCO\n"
          ],
          "name": "stdout"
        },
        {
          "output_type": "stream",
          "text": [
            "100%|██████████| 1020154/1020154 [00:00<00:00, 1853831.54B/s]\n"
          ],
          "name": "stderr"
        },
        {
          "output_type": "stream",
          "text": [
            "INFO: resource cached at /root/.cotk_cache/9e4c0afe33d98fa249e472206a39e5553d739234d0a27e055044ae8880e314b1_unzip/mscoco\n",
            "valid vocab list length = 2588\n",
            "vocab list length = 12411\n",
            "train set. invalid rate: 0.031716, unknown rate: 0.000000, max length before cut: 55, cut word rate: 0.000022\n",
            "dev set. invalid rate: 0.034089, unknown rate: 0.000000, max length before cut: 46, cut word rate: 0.000000\n",
            "test set. invalid rate: 0.031213, unknown rate: 0.000000, max length before cut: 27, cut word rate: 0.000000\n",
            "Vocab Size: 2588\n",
            "First 10 tokens: ['<pad>', '<unk>', '<go>', '<eos>', '.', 'a', 'A', 'on', 'of', 'in']\n",
            "Dataset is split into: ['train', 'dev', 'test']\n",
            "{'sent': array([[  2,   6,  67, 651, 549,  11,   5,  65,  89,  10, 115, 349,  83,\n",
            "          4,   3]]),\n",
            " 'sent_allvocabs': array([[  2,   6,  67, 651, 549,  11,   5,  65,  89,  10, 115, 349,  83,\n",
            "          4,   3]]),\n",
            " 'sent_length': array([15])}\n",
            "['<go>', 'A', 'blue', 'lamp', 'post', 'with', 'a', 'sign', 'for', 'the', 'yellow', 'brick', 'road', '.']\n"
          ],
          "name": "stdout"
        }
      ]
    },
    {
      "cell_type": "code",
      "metadata": {
        "id": "9TRnOwGq8-xf",
        "colab_type": "code",
        "colab": {}
      },
      "source": [
        "  import torch\n",
        "  from torch import nn\n",
        "\n",
        "  embedding_size = 20\n",
        "  hidden_size = 20\n",
        "\n",
        "  class LanguageModel(nn.Module):\n",
        "      def __init__(self):\n",
        "          super().__init__()\n",
        "          self.embedding_layer = nn.Embedding(dataloader.vocab_size, embedding_size)\n",
        "          self.rnn = nn.GRU(embedding_size, hidden_size, batch_first=True)\n",
        "          self.output_layer = nn.Linear(hidden_size, dataloader.vocab_size)\n",
        "          self.crossentropy = nn.CrossEntropyLoss()\n",
        "\n",
        "      def forward(self, data):\n",
        "          # data is the dict returned by ``dataloader.get_batch``\n",
        "          sent = data['sent']\n",
        "          sent_length = data['sent_length']\n",
        "          # sent is a LongTensor whose shape is (batch_size, sent_length)\n",
        "          # sent_length is a list whose size is (batch_size)\n",
        "\n",
        "          incoming = self.embedding_layer(sent)\n",
        "          # incoming: (batch_size, sent_length, embedding_size)\n",
        "          incoming, _ = self.rnn(incoming)\n",
        "          # incoming: (batch_size, sent_length, hidden_size)\n",
        "          incoming = self.output_layer(incoming)\n",
        "          # incoming: (batch_size, sent_length, dataloader.vocab_size)\n",
        "\n",
        "          loss = []\n",
        "          for i, length in enumerate(sent_length):\n",
        "              if length > 1:\n",
        "                  loss.append(self.crossentropy(incoming[i, :length-1], sent[i, 1:length]))\n",
        "                  # every time step predict next token\n",
        "\n",
        "          data[\"gen_log_prob\"] = nn.LogSoftmax(dim=-1)(incoming)\n",
        "\n",
        "          if len(loss) > 0:\n",
        "             return torch.stack(loss).mean()\n",
        "          else:\n",
        "              return 0\n"
      ],
      "execution_count": 0,
      "outputs": []
    },
    {
      "cell_type": "code",
      "metadata": {
        "id": "1I0y3gzK81dG",
        "colab_type": "code",
        "outputId": "2397969b-0271-408c-fc23-d08c11f7cd2a",
        "colab": {
          "base_uri": "https://localhost:8080/",
          "height": 381
        }
      },
      "source": [
        "    from livelossplot import PlotLosses\n",
        "    import numpy as np\n",
        "\n",
        "    net = LanguageModel()\n",
        "    optimizer = torch.optim.Adam(net.parameters(), lr=5e-3)\n",
        "    epoch_num = 100\n",
        "    batch_size = 16\n",
        "    plot = PlotLosses()\n",
        "\n",
        "    for j in range(epoch_num):\n",
        "        loss_arr = []\n",
        "        for i, data in enumerate(dataloader.get_batches(\"train\", batch_size)):\n",
        "            # convert numpy to torch.LongTensor\n",
        "            data['sent'] = torch.LongTensor(data['sent'])\n",
        "            net.zero_grad()\n",
        "            loss = net(data)\n",
        "            loss_arr.append(loss.tolist())\n",
        "            loss.backward()\n",
        "            optimizer.step()\n",
        "            if i >= 40:\n",
        "                break # break for shorten time of an epoch\n",
        "        plot.update({\"loss\": np.mean(loss_arr)})\n",
        "        plot.draw()\n",
        "        print(\"epoch %d/%d\" % (j+1, epoch_num))"
      ],
      "execution_count": 4,
      "outputs": [
        {
          "output_type": "display_data",
          "data": {
            "image/png": "[encoded data removed]",
            "text/plain": [
              "<Figure size 864x576 with 1 Axes>"
            ]
          },
          "metadata": {
            "tags": []
          }
        },
        {
          "output_type": "stream",
          "text": [
            "loss:\n",
            "training   (min:    3.147, max:    6.560, cur:    3.235)\n",
            "epoch 100/100\n"
          ],
          "name": "stdout"
        }
      ]
    },
    {
      "cell_type": "code",
      "metadata": {
        "id": "9gOf0Qs083Xc",
        "colab_type": "code",
        "outputId": "63eb70cd-0ca6-46da-b587-394eaf53de8a",
        "colab": {
          "base_uri": "https://localhost:8080/",
          "height": 72
        }
      },
      "source": [
        "metric = dataloader.get_teacher_forcing_metric(gen_log_prob_key=\"gen_log_prob\")\n",
        "for i, data in enumerate(dataloader.get_batches(\"test\", batch_size)):\n",
        "    # convert numpy to torch.LongTensor\n",
        "    data['sent'] = torch.LongTensor(data['sent'])\n",
        "    with torch.no_grad():\n",
        "        net(data)\n",
        "    assert \"gen_log_prob\" in data\n",
        "    metric.forward(data)\n",
        "pprint(metric.close(), width=150)"
      ],
      "execution_count": 5,
      "outputs": [
        {
          "output_type": "stream",
          "text": [
            "test set restart, 78 batches and 2 left\n",
            "{'perplexity': 33.99345315581511,\n",
            " 'perplexity hashvalue': b'O\\x10\\x1c)\\x86\\xf1\\xfe\\x10\\xce\\x1d!\\x97\\xc3\\x08m6Y\\xae\\xc3\\xe6I_8\\x1dg\\xf0\\x0bM\\xbb@\\xa58'}\n"
          ],
          "name": "stdout"
        }
      ]
    },
    {
      "cell_type": "code",
      "metadata": {
        "id": "4hMDvVyT85AG",
        "colab_type": "code",
        "colab": {
          "base_uri": "https://localhost:8080/",
          "height": 436
        },
        "outputId": "dabad695-7f0d-40b9-db7d-2039f20b50ae"
      },
      "source": [
        "metric = dataloader.get_inference_metric(gen_key=\"gen\")\n",
        "generate_sample_num = 1\n",
        "max_sent_length = 20\n",
        "\n",
        "for i in range(generate_sample_num):\n",
        "    # convert numpy to torch.LongTensor\n",
        "    data['sent'] = torch.LongTensor([[dataloader.go_id] for _ in range(batch_size)])\n",
        "    data['sent_length'] = np.array([1 for _ in range(batch_size)])\n",
        "    for j in range(max_sent_length):\n",
        "        with torch.no_grad():\n",
        "            net(data)\n",
        "            generated_token = torch.multinomial(data['gen_log_prob'].exp()[:, -1], 1)\n",
        "        data['sent'] = torch.cat([data['sent'], generated_token], dim=-1)\n",
        "\n",
        "    metric.forward({\"gen\": data['sent'][:, 1:].tolist()})\n",
        "pprint(metric.close(), width=250)"
      ],
      "execution_count": 6,
      "outputs": [
        {
          "output_type": "stream",
          "text": [
            "100%|██████████| 1000/1000 [00:00<00:00, 1153.17it/s]"
          ],
          "name": "stderr"
        },
        {
          "output_type": "stream",
          "text": [
            "{'bw-bleu': 0.054939232761090494,\n",
            " 'fw-bleu': 0.2643063370185712,\n",
            " 'fw-bw-bleu': 0.09096938998850655,\n",
            " 'fw-bw-bleu hashvalue': b'0\\x18\\xdc1\\x7f\\x82\\xb6\\x01?\\x01\\x1c\\x1f\\x8c\\xcd\\x90\\xc5\\xaf\\xfe\\xd7\\x10\\xb7\\xd7\\xd0jr5\\xcfE\\\\#5B',\n",
            " 'gen': [['A', 'black', 'fire', 'hydrant', 'with', 'broccoli', 'on', 'a', 'plate', '.'],\n",
            "         ['A', 'small', 'cat', 'that', 'drinking', 'are', 'sitting', 'from', 'a', 'screen', '.'],\n",
            "         ['This', 'was', 'hydrant', 'at', 'a', 'kitchen', 'by', 'a', 'meal', '.'],\n",
            "         ['A', 'bath', 'room', 'with', 'a', 'bicycle', 'are', 'antique', '<unk>', ',', 'sink', 'and', 'patterned', 'photograph', 'and', 'fork', 'look', 'on', 'the', 'bed'],\n",
            "         ['Large', 'yellow', 'kitchen', 'with', 'one', 'and', '<unk>', 'neat', ',', 'kite', '.'],\n",
            "         ['A', 'young', 'girl', 'are', 'kneeling', 'a', 'tennis', 'match', 'during', 'tennis', 'of', 'her', 'bat', '.'],\n",
            "         ['A', 'zebra', 'leaned', 'across', 'a', 'city', 'street', '.'],\n",
            "         ['A', 'tennis', 'player', 'looks', 'by', 'a', 'wii', 'chocolate', 'strip', '.'],\n",
            "         ['A', 'woman', 'sitting', 'up', 'on', 'the', 'edge', 'of', 'luggage', '.'],\n",
            "         ['Old', '<unk>', 'right', 'driving', 'along', 'from', 'the', 'stairs', '.'],\n",
            "         ['A', 'close', 'up', 'with', 'a', 'colorful', 'heart', 'next', 'to', 'a', 'skateboard', '.'],\n",
            "         ['A', 'man', 'holding', 'a', 'skate', 'boarding', 'a', 'mountain', 'at', 'the', 'sun', 'man', 'flying', 'the', 'air', '.'],\n",
            "         ['An', 'airplane', 'with', 'speakers', 'on', 'a', 'surface', '.'],\n",
            "         ['A', '<unk>', '<unk>', 'on', 'the', 'two', 'conference', 'floors', '.'],\n",
            "         ['A', 'girl', 'holding', 'a', 'wii', 'screen', 'with', 'a', 'hot', 'Man', 'with', 'wii', 'face', 'in', 'formation', '.'],\n",
            "         ['Three', 'and', 'snowboards', 'a', 'video', 'game', 'during', 'the', 'beach', '.']],\n",
            " 'self-bleu': 0.04565576967736443,\n",
            " 'self-bleu hashvalue': b'\\x9f\\x11!\\xd3\\x98\\x8e\\xf4x\\x99C\\xef\\x18\\xc1\\xc0\\xb7I\\xee\\xc0\\xd8\\xee\\xe3\\xf1\"pg\\x16\\x05\\xceg\\x02%\\xf6'}\n"
          ],
          "name": "stdout"
        },
        {
          "output_type": "stream",
          "text": [
            "\n"
          ],
          "name": "stderr"
        }
      ]
    },
    {
      "cell_type": "code",
      "metadata": {
        "id": "-aTlXelpTr5k",
        "colab_type": "code",
        "colab": {
          "base_uri": "https://localhost:8080/",
          "height": 53
        },
        "outputId": "4535504d-4807-47b9-dd37-c8e786bf143d"
      },
      "source": [
        "metric = dataloader.get_teacher_forcing_metric(gen_log_prob_key=\"gen_log_prob\")\n",
        "for i, data in enumerate(dataloader.get_batches(\"test\", batch_size)):\n",
        "    # convert numpy to torch.LongTensor\n",
        "    data['sent'] = torch.LongTensor(data['sent'])\n",
        "    with torch.no_grad():\n",
        "        net(data)\n",
        "    assert \"gen_log_prob\" in data\n",
        "    metric.forward(data)\n",
        "    if i >= 15: #ignore the following batches\n",
        "        break\n",
        "pprint(metric.close(), width=150)"
      ],
      "execution_count": 7,
      "outputs": [
        {
          "output_type": "stream",
          "text": [
            "test set restart, 78 batches and 2 left\n",
            "{'perplexity': 31.5929983966103, 'perplexity hashvalue': b\"\\x0c\\xfd9r\\xc7\\x8b_\\xf5\\xf7\\xf90\\xd1v\\x7f\\xd8Ua\\xc8g\\xdc\\xd3MV\\xeeH\\xe0\\x86\\xed@'\\x91\\x91\"}\n"
          ],
          "name": "stdout"
        }
      ]
    }
  ]
}