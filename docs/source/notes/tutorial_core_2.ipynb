{
  "nbformat": 4,
  "nbformat_minor": 0,
  "metadata": {
    "colab": {
      "name": "Untitled0.ipynb",
      "version": "0.3.2",
      "provenance": [],
      "collapsed_sections": []
    },
    "kernelspec": {
      "name": "python3",
      "display_name": "Python 3"
    }
  },
  "cells": [
    {
      "cell_type": "code",
      "metadata": {
        "id": "k4iaR9TN9q-a",
        "colab_type": "code",
        "outputId": "20d87392-a737-4142-c47c-fb87c90fc42c",
        "colab": {
          "base_uri": "https://localhost:8080/",
          "height": 1000
        }
      },
      "source": [
        "!rm -rf test && mkdir -p test && cd test && git clone https://github.com/thu-coai/cotk.git && pip3 install ./cotk\n",
        "!pip install livelossplot"
      ],
      "execution_count": 1,
      "outputs": [
        {
          "output_type": "stream",
          "text": [
            "Cloning into 'cotk'...\n",
            "remote: Enumerating objects: 41, done.\u001b[K\n",
            "remote: Counting objects:   2% (1/41)   \u001b[K\rremote: Counting objects:   4% (2/41)   \u001b[K\rremote: Counting objects:   7% (3/41)   \u001b[K\rremote: Counting objects:   9% (4/41)   \u001b[K\rremote: Counting objects:  12% (5/41)   \u001b[K\rremote: Counting objects:  14% (6/41)   \u001b[K\rremote: Counting objects:  17% (7/41)   \u001b[K\rremote: Counting objects:  19% (8/41)   \u001b[K\rremote: Counting objects:  21% (9/41)   \u001b[K\rremote: Counting objects:  24% (10/41)   \u001b[K\rremote: Counting objects:  26% (11/41)   \u001b[K\rremote: Counting objects:  29% (12/41)   \u001b[K\rremote: Counting objects:  31% (13/41)   \u001b[K\rremote: Counting objects:  34% (14/41)   \u001b[K\rremote: Counting objects:  36% (15/41)   \u001b[K\rremote: Counting objects:  39% (16/41)   \u001b[K\rremote: Counting objects:  41% (17/41)   \u001b[K\rremote: Counting objects:  43% (18/41)   \u001b[K\rremote: Counting objects:  46% (19/41)   \u001b[K\rremote: Counting objects:  48% (20/41)   \u001b[K\rremote: Counting objects:  51% (21/41)   \u001b[K\rremote: Counting objects:  53% (22/41)   \u001b[K\rremote: Counting objects:  56% (23/41)   \u001b[K\rremote: Counting objects:  58% (24/41)   \u001b[K\rremote: Counting objects:  60% (25/41)   \u001b[K\rremote: Counting objects:  63% (26/41)   \u001b[K\rremote: Counting objects:  65% (27/41)   \u001b[K\rremote: Counting objects:  68% (28/41)   \u001b[K\rremote: Counting objects:  70% (29/41)   \u001b[K\rremote: Counting objects:  73% (30/41)   \u001b[K\rremote: Counting objects:  75% (31/41)   \u001b[K\rremote: Counting objects:  78% (32/41)   \u001b[K\rremote: Counting objects:  80% (33/41)   \u001b[K\rremote: Counting objects:  82% (34/41)   \u001b[K\rremote: Counting objects:  85% (35/41)   \u001b[K\rremote: Counting objects:  87% (36/41)   \u001b[K\rremote: Counting objects:  90% (37/41)   \u001b[K\rremote: Counting objects:  92% (38/41)   \u001b[K\rremote: Counting objects:  95% (39/41)   \u001b[K\rremote: Counting objects:  97% (40/41)   \u001b[K\rremote: Counting objects: 100% (41/41)   \u001b[K\rremote: Counting objects: 100% (41/41), done.\u001b[K\n",
            "remote: Compressing objects: 100% (36/36), done.\u001b[K\n",
            "remote: Total 1789 (delta 5), reused 24 (delta 3), pack-reused 1748\u001b[K\n",
            "Receiving objects: 100% (1789/1789), 4.71 MiB | 26.92 MiB/s, done.\n",
            "Resolving deltas: 100% (1025/1025), done.\n",
            "Processing ./cotk\n",
            "Requirement already satisfied: numpy>=1.13 in /usr/local/lib/python3.6/dist-packages (from cotk==0.0.1.dev20190711) (1.16.4)\n",
            "Collecting nltk>=3.4 (from cotk==0.0.1.dev20190711)\n",
            "\u001b[?25l  Downloading https://files.pythonhosted.org/packages/87/16/4d247e27c55a7b6412e7c4c86f2500ae61afcbf5932b9e3491f8462f8d9e/nltk-3.4.4.zip (1.5MB)\n",
            "\u001b[K     |████████████████████████████████| 1.5MB 5.0MB/s \n",
            "\u001b[?25hCollecting tqdm>=4.30 (from cotk==0.0.1.dev20190711)\n",
            "\u001b[?25l  Downloading https://files.pythonhosted.org/packages/9f/3d/7a6b68b631d2ab54975f3a4863f3c4e9b26445353264ef01f465dc9b0208/tqdm-4.32.2-py2.py3-none-any.whl (50kB)\n",
            "\u001b[K     |████████████████████████████████| 51kB 18.9MB/s \n",
            "\u001b[?25hCollecting checksumdir>=1.1 (from cotk==0.0.1.dev20190711)\n",
            "  Downloading https://files.pythonhosted.org/packages/9f/c8/4000776f815a8202598bfdbe78478e781e3fd9f66cfe53b380206bcf4e57/checksumdir-1.1.6.tar.gz\n",
            "Requirement already satisfied: requests in /usr/local/lib/python3.6/dist-packages (from cotk==0.0.1.dev20190711) (2.21.0)\n",
            "Requirement already satisfied: six in /usr/local/lib/python3.6/dist-packages (from nltk>=3.4->cotk==0.0.1.dev20190711) (1.12.0)\n",
            "Requirement already satisfied: chardet<3.1.0,>=3.0.2 in /usr/local/lib/python3.6/dist-packages (from requests->cotk==0.0.1.dev20190711) (3.0.4)\n",
            "Requirement already satisfied: idna<2.9,>=2.5 in /usr/local/lib/python3.6/dist-packages (from requests->cotk==0.0.1.dev20190711) (2.8)\n",
            "Requirement already satisfied: certifi>=2017.4.17 in /usr/local/lib/python3.6/dist-packages (from requests->cotk==0.0.1.dev20190711) (2019.6.16)\n",
            "Requirement already satisfied: urllib3<1.25,>=1.21.1 in /usr/local/lib/python3.6/dist-packages (from requests->cotk==0.0.1.dev20190711) (1.24.3)\n",
            "Building wheels for collected packages: cotk, nltk, checksumdir\n",
            "  Building wheel for cotk (setup.py) ... \u001b[?25l\u001b[?25hdone\n",
            "  Stored in directory: /tmp/pip-ephem-wheel-cache-29gtdfro/wheels/4c/55/4b/023e8c061ac8bf67267235c4b3c04ad6d8040ee62a61ab173d\n",
            "  Building wheel for nltk (setup.py) ... \u001b[?25l\u001b[?25hdone\n",
            "  Stored in directory: /root/.cache/pip/wheels/41/c8/31/48ace4468e236e0e8435f30d33e43df48594e4d53e367cf061\n",
            "  Building wheel for checksumdir (setup.py) ... \u001b[?25l\u001b[?25hdone\n",
            "  Stored in directory: /root/.cache/pip/wheels/d7/0e/6e/ad41ded2ca5d2fae0ae1b6dd6889eaa0ed14ed1c2a9f834197\n",
            "Successfully built cotk nltk checksumdir\n",
            "Installing collected packages: nltk, tqdm, checksumdir, cotk\n",
            "  Found existing installation: nltk 3.2.5\n",
            "    Uninstalling nltk-3.2.5:\n",
            "      Successfully uninstalled nltk-3.2.5\n",
            "  Found existing installation: tqdm 4.28.1\n",
            "    Uninstalling tqdm-4.28.1:\n",
            "      Successfully uninstalled tqdm-4.28.1\n",
            "Successfully installed checksumdir-1.1.6 cotk-0.0.1.dev20190711 nltk-3.4.4 tqdm-4.32.2\n",
            "Collecting livelossplot\n",
            "  Downloading https://files.pythonhosted.org/packages/8e/f6/0618c30078f9c1e4b2cd84f1ea6bb70c6615070468b75b0d934326107bcd/livelossplot-0.4.1-py3-none-any.whl\n",
            "Requirement already satisfied: matplotlib in /usr/local/lib/python3.6/dist-packages (from livelossplot) (3.0.3)\n",
            "Requirement already satisfied: notebook in /usr/local/lib/python3.6/dist-packages (from livelossplot) (5.2.2)\n",
            "Requirement already satisfied: pyparsing!=2.0.4,!=2.1.2,!=2.1.6,>=2.0.1 in /usr/local/lib/python3.6/dist-packages (from matplotlib->livelossplot) (2.4.0)\n",
            "Requirement already satisfied: python-dateutil>=2.1 in /usr/local/lib/python3.6/dist-packages (from matplotlib->livelossplot) (2.5.3)\n",
            "Requirement already satisfied: kiwisolver>=1.0.1 in /usr/local/lib/python3.6/dist-packages (from matplotlib->livelossplot) (1.1.0)\n",
            "Requirement already satisfied: cycler>=0.10 in /usr/local/lib/python3.6/dist-packages (from matplotlib->livelossplot) (0.10.0)\n",
            "Requirement already satisfied: numpy>=1.10.0 in /usr/local/lib/python3.6/dist-packages (from matplotlib->livelossplot) (1.16.4)\n",
            "Requirement already satisfied: nbconvert in /usr/local/lib/python3.6/dist-packages (from notebook->livelossplot) (5.5.0)\n",
            "Requirement already satisfied: nbformat in /usr/local/lib/python3.6/dist-packages (from notebook->livelossplot) (4.4.0)\n",
            "Requirement already satisfied: jinja2 in /usr/local/lib/python3.6/dist-packages (from notebook->livelossplot) (2.10.1)\n",
            "Requirement already satisfied: ipython-genutils in /usr/local/lib/python3.6/dist-packages (from notebook->livelossplot) (0.2.0)\n",
            "Requirement already satisfied: jupyter-client in /usr/local/lib/python3.6/dist-packages (from notebook->livelossplot) (5.2.4)\n",
            "Requirement already satisfied: ipykernel in /usr/local/lib/python3.6/dist-packages (from notebook->livelossplot) (4.6.1)\n",
            "Requirement already satisfied: tornado>=4 in /usr/local/lib/python3.6/dist-packages (from notebook->livelossplot) (4.5.3)\n",
            "Requirement already satisfied: terminado>=0.3.3; sys_platform != \"win32\" in /usr/local/lib/python3.6/dist-packages (from notebook->livelossplot) (0.8.2)\n",
            "Requirement already satisfied: traitlets>=4.2.1 in /usr/local/lib/python3.6/dist-packages (from notebook->livelossplot) (4.3.2)\n",
            "Requirement already satisfied: jupyter-core in /usr/local/lib/python3.6/dist-packages (from notebook->livelossplot) (4.5.0)\n",
            "Requirement already satisfied: six>=1.5 in /usr/local/lib/python3.6/dist-packages (from python-dateutil>=2.1->matplotlib->livelossplot) (1.12.0)\n",
            "Requirement already satisfied: setuptools in /usr/local/lib/python3.6/dist-packages (from kiwisolver>=1.0.1->matplotlib->livelossplot) (41.0.1)\n",
            "Requirement already satisfied: defusedxml in /usr/local/lib/python3.6/dist-packages (from nbconvert->notebook->livelossplot) (0.6.0)\n",
            "Requirement already satisfied: entrypoints>=0.2.2 in /usr/local/lib/python3.6/dist-packages (from nbconvert->notebook->livelossplot) (0.3)\n",
            "Requirement already satisfied: mistune>=0.8.1 in /usr/local/lib/python3.6/dist-packages (from nbconvert->notebook->livelossplot) (0.8.4)\n",
            "Requirement already satisfied: pygments in /usr/local/lib/python3.6/dist-packages (from nbconvert->notebook->livelossplot) (2.1.3)\n",
            "Requirement already satisfied: pandocfilters>=1.4.1 in /usr/local/lib/python3.6/dist-packages (from nbconvert->notebook->livelossplot) (1.4.2)\n",
            "Requirement already satisfied: bleach in /usr/local/lib/python3.6/dist-packages (from nbconvert->notebook->livelossplot) (3.1.0)\n",
            "Requirement already satisfied: testpath in /usr/local/lib/python3.6/dist-packages (from nbconvert->notebook->livelossplot) (0.4.2)\n",
            "Requirement already satisfied: jsonschema!=2.5.0,>=2.4 in /usr/local/lib/python3.6/dist-packages (from nbformat->notebook->livelossplot) (2.6.0)\n",
            "Requirement already satisfied: MarkupSafe>=0.23 in /usr/local/lib/python3.6/dist-packages (from jinja2->notebook->livelossplot) (1.1.1)\n",
            "Requirement already satisfied: pyzmq>=13 in /usr/local/lib/python3.6/dist-packages (from jupyter-client->notebook->livelossplot) (17.0.0)\n",
            "Requirement already satisfied: ipython>=4.0.0 in /usr/local/lib/python3.6/dist-packages (from ipykernel->notebook->livelossplot) (5.5.0)\n",
            "Requirement already satisfied: ptyprocess; os_name != \"nt\" in /usr/local/lib/python3.6/dist-packages (from terminado>=0.3.3; sys_platform != \"win32\"->notebook->livelossplot) (0.6.0)\n",
            "Requirement already satisfied: decorator in /usr/local/lib/python3.6/dist-packages (from traitlets>=4.2.1->notebook->livelossplot) (4.4.0)\n",
            "Requirement already satisfied: webencodings in /usr/local/lib/python3.6/dist-packages (from bleach->nbconvert->notebook->livelossplot) (0.5.1)\n",
            "Requirement already satisfied: pickleshare in /usr/local/lib/python3.6/dist-packages (from ipython>=4.0.0->ipykernel->notebook->livelossplot) (0.7.5)\n",
            "Requirement already satisfied: pexpect; sys_platform != \"win32\" in /usr/local/lib/python3.6/dist-packages (from ipython>=4.0.0->ipykernel->notebook->livelossplot) (4.7.0)\n",
            "Requirement already satisfied: simplegeneric>0.8 in /usr/local/lib/python3.6/dist-packages (from ipython>=4.0.0->ipykernel->notebook->livelossplot) (0.8.1)\n",
            "Requirement already satisfied: prompt-toolkit<2.0.0,>=1.0.4 in /usr/local/lib/python3.6/dist-packages (from ipython>=4.0.0->ipykernel->notebook->livelossplot) (1.0.16)\n",
            "Requirement already satisfied: wcwidth in /usr/local/lib/python3.6/dist-packages (from prompt-toolkit<2.0.0,>=1.0.4->ipython>=4.0.0->ipykernel->notebook->livelossplot) (0.1.7)\n",
            "Installing collected packages: livelossplot\n",
            "Successfully installed livelossplot-0.4.1\n"
          ],
          "name": "stdout"
        }
      ]
    },
    {
      "cell_type": "code",
      "metadata": {
        "id": "wXPYm7SA8zbP",
        "colab_type": "code",
        "outputId": "781c1ad5-1928-4393-947a-065589c451a2",
        "colab": {
          "base_uri": "https://localhost:8080/",
          "height": 363
        }
      },
      "source": [
        "  from cotk.dataloader import MSCOCO\n",
        "  from pprint import pprint\n",
        "  dataloader = MSCOCO(\"resources://MSCOCO_small\") # \"resources://MSCOCO_small\" is a predefined resources name\n",
        "  print(\"Vocab Size:\", dataloader.vocab_size)\n",
        "  print(\"First 10 tokens:\",  dataloader.vocab_list[:10])\n",
        "  print(\"Dataset is split into:\", dataloader.key_name)\n",
        "  data = dataloader.get_batch(\"train\", [0]) # get the sample of id 0\n",
        "  pprint(data, width=200)\n",
        "  print(dataloader.convert_ids_to_tokens(data['sent'][0]))"
      ],
      "execution_count": 2,
      "outputs": [
        {
          "output_type": "stream",
          "text": [
            "INFO: name: MSCOCO_small\n",
            "INFO: source: default\n",
            "INFO: processor type: MSCOCO\n"
          ],
          "name": "stdout"
        },
        {
          "output_type": "stream",
          "text": [
            "100%|██████████| 1020154/1020154 [00:00<00:00, 1803639.03B/s]\n"
          ],
          "name": "stderr"
        },
        {
          "output_type": "stream",
          "text": [
            "INFO: resource cached at /root/.cotk_cache/9e4c0afe33d98fa249e472206a39e5553d739234d0a27e055044ae8880e314b1_unzip/mscoco\n",
            "valid vocab list length = 2588\n",
            "vocab list length = 12411\n",
            "train set. invalid rate: 0.031716, unknown rate: 0.000000, max length before cut: 55, cut word rate: 0.000022\n",
            "dev set. invalid rate: 0.034089, unknown rate: 0.000000, max length before cut: 46, cut word rate: 0.000000\n",
            "test set. invalid rate: 0.031213, unknown rate: 0.000000, max length before cut: 27, cut word rate: 0.000000\n",
            "Vocab Size: 2588\n",
            "First 10 tokens: ['<pad>', '<unk>', '<go>', '<eos>', '.', 'a', 'A', 'on', 'of', 'in']\n",
            "Dataset is split into: ['train', 'dev', 'test']\n",
            "{'sent': array([[  2,   6,  67, 651, 549,  11,   5,  65,  89,  10, 115, 349,  83,\n",
            "          4,   3]]),\n",
            " 'sent_allvocabs': array([[  2,   6,  67, 651, 549,  11,   5,  65,  89,  10, 115, 349,  83,\n",
            "          4,   3]]),\n",
            " 'sent_length': array([15])}\n",
            "['<go>', 'A', 'blue', 'lamp', 'post', 'with', 'a', 'sign', 'for', 'the', 'yellow', 'brick', 'road', '.']\n"
          ],
          "name": "stdout"
        }
      ]
    },
    {
      "cell_type": "code",
      "metadata": {
        "id": "9TRnOwGq8-xf",
        "colab_type": "code",
        "colab": {}
      },
      "source": [
        "  import torch\n",
        "  from torch import nn\n",
        "\n",
        "  embedding_size = 20\n",
        "  hidden_size = 20\n",
        "\n",
        "  class LanguageModel(nn.Module):\n",
        "      def __init__(self):\n",
        "          super().__init__()\n",
        "          self.embedding_layer = nn.Embedding(dataloader.vocab_size, embedding_size)\n",
        "          self.rnn = nn.GRU(embedding_size, hidden_size, batch_first=True)\n",
        "          self.output_layer = nn.Linear(hidden_size, dataloader.vocab_size)\n",
        "          self.crossentropy = nn.CrossEntropyLoss()\n",
        "          \n",
        "          from cotk.wordvector import Glove\n",
        "          wordvec = Glove(\"resources://Glove50d_small\")\n",
        "          self.embedding_layer.weight = nn.Parameter(torch.Tensor(wordvec.load(embedding_size, dataloader.vocab_list)))\n",
        "\n",
        "      def forward(self, data):\n",
        "          # data is the dict returned by ``dataloader.get_batch``\n",
        "          sent = data['sent']\n",
        "          sent_length = data['sent_length']\n",
        "          # sent is a LongTensor whose shape is (batch_size, sent_length)\n",
        "          # sent_length is a list whose size is (batch_size)\n",
        "\n",
        "          incoming = self.embedding_layer(sent)\n",
        "          # incoming: (batch_size, sent_length, embedding_size)\n",
        "          incoming, _ = self.rnn(incoming)\n",
        "          # incoming: (batch_size, sent_length, hidden_size)\n",
        "          incoming = self.output_layer(incoming)\n",
        "          # incoming: (batch_size, sent_length, dataloader.vocab_size)\n",
        "\n",
        "          loss = []\n",
        "          for i, length in enumerate(sent_length):\n",
        "              if length > 1:\n",
        "                  loss.append(self.crossentropy(incoming[i, :length-1], sent[i, 1:length]))\n",
        "                  # every time step predict next token\n",
        "\n",
        "          data[\"gen_log_prob\"] = nn.LogSoftmax(dim=-1)(incoming)\n",
        "\n",
        "          if len(loss) > 0:\n",
        "             return torch.stack(loss).mean()\n",
        "          else:\n",
        "              return 0\n"
      ],
      "execution_count": 0,
      "outputs": []
    },
    {
      "cell_type": "code",
      "metadata": {
        "id": "1I0y3gzK81dG",
        "colab_type": "code",
        "outputId": "591470a5-eae6-4531-a783-814351e7ce00",
        "colab": {
          "base_uri": "https://localhost:8080/",
          "height": 381
        }
      },
      "source": [
        "    from livelossplot import PlotLosses\n",
        "    import numpy as np\n",
        "\n",
        "    net = LanguageModel()\n",
        "    optimizer = torch.optim.Adam(net.parameters(), lr=5e-3)\n",
        "    epoch_num = 100\n",
        "    batch_size = 16\n",
        "    plot = PlotLosses()\n",
        "\n",
        "    for j in range(epoch_num):\n",
        "        loss_arr = []\n",
        "        for i, data in enumerate(dataloader.get_batches(\"train\", batch_size)):\n",
        "            # convert numpy to torch.LongTensor\n",
        "            data['sent'] = torch.LongTensor(data['sent'])\n",
        "            net.zero_grad()\n",
        "            loss = net(data)\n",
        "            loss_arr.append(loss.tolist())\n",
        "            loss.backward()\n",
        "            optimizer.step()\n",
        "            if i >= 40:\n",
        "                break # break for shorten time of an epoch\n",
        "        plot.update({\"loss\": np.mean(loss_arr)})\n",
        "        plot.draw()\n",
        "        print(\"epoch %d/%d\" % (j+1, epoch_num))"
      ],
      "execution_count": 4,
      "outputs": [
        {
          "output_type": "display_data",
          "data": {
            "image/png": "[encoded data removed]",
            "text/plain": [
              "<Figure size 864x576 with 1 Axes>"
            ]
          },
          "metadata": {
            "tags": []
          }
        },
        {
          "output_type": "stream",
          "text": [
            "loss:\n",
            "training   (min:    3.016, max:    6.582, cur:    3.095)\n",
            "epoch 100/100\n"
          ],
          "name": "stdout"
        }
      ]
    },
    {
      "cell_type": "code",
      "metadata": {
        "id": "9gOf0Qs083Xc",
        "colab_type": "code",
        "outputId": "d8950cf3-0222-4e22-ebfa-0340d32db7a3",
        "colab": {
          "base_uri": "https://localhost:8080/",
          "height": 72
        }
      },
      "source": [
        "metric = dataloader.get_teacher_forcing_metric(gen_log_prob_key=\"gen_log_prob\")\n",
        "for i, data in enumerate(dataloader.get_batches(\"test\", batch_size)):\n",
        "    # convert numpy to torch.LongTensor\n",
        "    data['sent'] = torch.LongTensor(data['sent'])\n",
        "    with torch.no_grad():\n",
        "        net(data)\n",
        "    assert \"gen_log_prob\" in data\n",
        "    metric.forward(data)\n",
        "pprint(metric.close(), width=150)"
      ],
      "execution_count": 5,
      "outputs": [
        {
          "output_type": "stream",
          "text": [
            "test set restart, 78 batches and 2 left\n",
            "{'perplexity': 30.32054942275421,\n",
            " 'perplexity hashvalue': b'O\\x10\\x1c)\\x86\\xf1\\xfe\\x10\\xce\\x1d!\\x97\\xc3\\x08m6Y\\xae\\xc3\\xe6I_8\\x1dg\\xf0\\x0bM\\xbb@\\xa58'}\n"
          ],
          "name": "stdout"
        }
      ]
    },
    {
      "cell_type": "code",
      "metadata": {
        "id": "4hMDvVyT85AG",
        "colab_type": "code",
        "colab": {
          "base_uri": "https://localhost:8080/",
          "height": 436
        },
        "outputId": "7cbfcbfd-1683-4dc0-deb6-6c1d86e41ed1"
      },
      "source": [
        "metric = dataloader.get_inference_metric(gen_key=\"gen\")\n",
        "generate_sample_num = 1\n",
        "max_sent_length = 20\n",
        "\n",
        "for i in range(generate_sample_num):\n",
        "    # convert numpy to torch.LongTensor\n",
        "    data['sent'] = torch.LongTensor([[dataloader.go_id] for _ in range(batch_size)])\n",
        "    data['sent_length'] = np.array([1 for _ in range(batch_size)])\n",
        "    for j in range(max_sent_length):\n",
        "        with torch.no_grad():\n",
        "            net(data)\n",
        "            generated_token = torch.multinomial(data['gen_log_prob'].exp()[:, -1], 1)\n",
        "        data['sent'] = torch.cat([data['sent'], generated_token], dim=-1)\n",
        "\n",
        "    metric.forward({\"gen\": data['sent'][:, 1:].tolist()})\n",
        "pprint(metric.close(), width=250)"
      ],
      "execution_count": 6,
      "outputs": [
        {
          "output_type": "stream",
          "text": [
            "100%|██████████| 1000/1000 [00:00<00:00, 1070.48it/s]\n"
          ],
          "name": "stderr"
        },
        {
          "output_type": "stream",
          "text": [
            "{'bw-bleu': 0.05876977925484636,\n",
            " 'fw-bleu': 0.2803915127831201,\n",
            " 'fw-bw-bleu': 0.09717233480377092,\n",
            " 'fw-bw-bleu hashvalue': b'0\\x18\\xdc1\\x7f\\x82\\xb6\\x01?\\x01\\x1c\\x1f\\x8c\\xcd\\x90\\xc5\\xaf\\xfe\\xd7\\x10\\xb7\\xd7\\xd0jr5\\xcfE\\\\#5B',\n",
            " 'gen': [['An', 'older', 'giraffe', 'holds', '<unk>', 'controllers', '.'],\n",
            "         ['A', 'woman', 'is', 'running', 'that', 'are', 'down', 'a', 'remote', '.'],\n",
            "         ['A', 'single', 'A', 'man', 'game', 'of', 'a', 'man', 'holding', 'a', 'giraffe', \"'s\", 'water', '.'],\n",
            "         ['Two', 'women', 'floating', 'on', 'a', 'surfboard', 'on', 'both', 'two', 'elephants', '.'],\n",
            "         ['A', 'couple', 'getting', 'skiis', 'at', 'the', 'street', '.'],\n",
            "         ['A', 'airplane', 'are', 'parked', 'on', 'wooden', 'surface', 'and', '<unk>', 'outside', '.'],\n",
            "         ['A', 'man', 'standing', 'by', 'a', 'laptop', 'computer', 'sticker', '.'],\n",
            "         ['A', 'propeller', 'train', 'crossing', 'hard', 'ear', 'platform', '.'],\n",
            "         ['A', 'large', 'scooter', 'flying', 'through', 'a', 'stable', 'next', 'to', 'each', 'other', '.'],\n",
            "         ['Three', 'people', 'are', 'underneath', 'a', 'large', 'umbrella', '.'],\n",
            "         ['A', 'woman', 'skiing', 'across', 'a', 'tennis', 'court', '.'],\n",
            "         ['An', 'office', 'tray', 'holding', 'a', 'crowd', 'and', 'yellow', 'flowers', '.'],\n",
            "         ['Some', 'zebras', 'with', 'sauce', 'next', 'to', 'each', 'ball', '.'],\n",
            "         ['Two', 'large', 'room', 'with', 'a', 'trick', 'in', 'a', 'field', '.'],\n",
            "         ['A', 'stop', 'sign', '<unk>', 'on', 'a', 'horse', 'in', 'a', 'field', '.'],\n",
            "         ['Two', '<unk>', 'in', 'the', 'air', 'to', 'curb', 'a', 'street', 'on', 'a', 'table', '.']],\n",
            " 'self-bleu': 0.08785504216803529,\n",
            " 'self-bleu hashvalue': b'\\x9f\\x11!\\xd3\\x98\\x8e\\xf4x\\x99C\\xef\\x18\\xc1\\xc0\\xb7I\\xee\\xc0\\xd8\\xee\\xe3\\xf1\"pg\\x16\\x05\\xceg\\x02%\\xf6'}\n"
          ],
          "name": "stdout"
        }
      ]
    },
    {
      "cell_type": "code",
      "metadata": {
        "id": "-aTlXelpTr5k",
        "colab_type": "code",
        "colab": {
          "base_uri": "https://localhost:8080/",
          "height": 72
        },
        "outputId": "e51b494c-46da-4334-cd5d-9c0da952ba5d"
      },
      "source": [
        "metric = dataloader.get_teacher_forcing_metric(gen_log_prob_key=\"gen_log_prob\")\n",
        "for i, data in enumerate(dataloader.get_batches(\"test\", batch_size)):\n",
        "    # convert numpy to torch.LongTensor\n",
        "    data['sent'] = torch.LongTensor(data['sent'])\n",
        "    with torch.no_grad():\n",
        "        net(data)\n",
        "    assert \"gen_log_prob\" in data\n",
        "    metric.forward(data)\n",
        "    if i >= 15: #ignore the following batches\n",
        "        break\n",
        "pprint(metric.close(), width=150)"
      ],
      "execution_count": 7,
      "outputs": [
        {
          "output_type": "stream",
          "text": [
            "test set restart, 78 batches and 2 left\n",
            "{'perplexity': 30.31468161408213,\n",
            " 'perplexity hashvalue': b'W\\xf1\\xa7m\\xe0\\xeb\\x887hY\\x05\\xc6Z\\xc8\\xb5\\x8c\\xfau\\x9ec\\xa8\\x18\\xb7=\\xa6\\xe4E\\x03\\xd3\\xb9\\x15s'}\n"
          ],
          "name": "stdout"
        }
      ]
    }
  ]
}